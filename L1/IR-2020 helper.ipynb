{
 "cells": [
  {
   "cell_type": "code",
   "execution_count": 1,
   "metadata": {},
   "outputs": [],
   "source": [
    "import csv\n",
    "import pandas as pd\n",
    "import numpy as np"
   ]
  },
  {
   "cell_type": "code",
   "execution_count": 2,
   "metadata": {},
   "outputs": [],
   "source": [
    "list = []\n",
    "movieName = []\n",
    "with open ('IMDB.csv') as file:\n",
    "    reader = csv.reader(file)\n",
    "    writer = csv.writer(file)\n",
    "    for row in reader:\n",
    "        #print(row)\n",
    "        list.append(row[1])\n",
    "        movieName.append(row[0])\n",
    "    #print(movieName)"
   ]
  },
  {
   "cell_type": "code",
   "execution_count": 3,
   "metadata": {},
   "outputs": [],
   "source": [
    "def func(text):\n",
    "    year = ''\n",
    "    for i in reversed(text):\n",
    "        if i == '0' or i == '1' or i == '2' or i == '3' or i == '4' or i == '5' or i == '6' or i == '7' or i == '8' or i == '9':\n",
    "            year = year + str(i)\n",
    "        elif(i == len(text)):\n",
    "            return 'Year'\n",
    "    return str(year[:4][::-1])"
   ]
  },
  {
   "cell_type": "code",
   "execution_count": 4,
   "metadata": {},
   "outputs": [],
   "source": [
    "years = []\n",
    "for i in list:\n",
    "    k = func(i)\n",
    "    years.append(k)\n",
    "years[0] = 'Years'\n",
    "#print(years)"
   ]
  },
  {
   "cell_type": "code",
   "execution_count": 5,
   "metadata": {},
   "outputs": [],
   "source": [
    "def deleteYears(text):\n",
    "    nText = ''\n",
    "    for it in reversed(text):\n",
    "        nText += it\n",
    "    return nText[7:][::-1]"
   ]
  },
  {
   "cell_type": "code",
   "execution_count": 6,
   "metadata": {},
   "outputs": [],
   "source": [
    "nList = []\n",
    "nList.append('Movie Name')\n",
    "for i in list[1:]:\n",
    "    nList.append(deleteYears(i))\n",
    "#print(nList)"
   ]
  },
  {
   "cell_type": "code",
   "execution_count": 7,
   "metadata": {},
   "outputs": [],
   "source": [
    "for i in range(len(years)):\n",
    "    if years[i] == '':\n",
    "        years[i] = years[i-1]"
   ]
  },
  {
   "cell_type": "code",
   "execution_count": 8,
   "metadata": {},
   "outputs": [],
   "source": [
    "for i in range(len(movieName)):\n",
    "    movieName[i] = movieName[i] + ', ' + nList[i] + ', ' + years[i]"
   ]
  },
  {
   "cell_type": "code",
   "execution_count": 9,
   "metadata": {},
   "outputs": [],
   "source": [
    "pd.DataFrame(movieName).to_csv(r'result.csv', index=False)"
   ]
  }
 ],
 "metadata": {
  "kernelspec": {
   "display_name": "Python 3",
   "language": "python",
   "name": "python3"
  },
  "language_info": {
   "codemirror_mode": {
    "name": "ipython",
    "version": 3
   },
   "file_extension": ".py",
   "mimetype": "text/x-python",
   "name": "python",
   "nbconvert_exporter": "python",
   "pygments_lexer": "ipython3",
   "version": "3.7.4"
  }
 },
 "nbformat": 4,
 "nbformat_minor": 2
}
