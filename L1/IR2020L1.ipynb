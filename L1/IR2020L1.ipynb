{
 "cells": [
  {
   "cell_type": "code",
   "execution_count": 1,
   "metadata": {},
   "outputs": [],
   "source": [
    "import ipywidgets as widgets\n",
    "import psycopg2\n",
    "import re as re"
   ]
  },
  {
   "cell_type": "code",
   "execution_count": 2,
   "metadata": {},
   "outputs": [],
   "source": [
    "def con_open():\n",
    "    connection = psycopg2.connect(\n",
    "      database=\"InformationResearch\", \n",
    "      user=\"postgres\", \n",
    "      password=\"qwerty123\", \n",
    "      host=\"localhost\"\n",
    "    )\n",
    "    return connection"
   ]
  },
  {
   "cell_type": "code",
   "execution_count": 233,
   "metadata": {},
   "outputs": [],
   "source": [
    "def findByWord(connection, word):\n",
    "    year = ''\n",
    "    word += \" \"\n",
    "    res = []  \n",
    "    ## Отделение года от названия\n",
    "    for it in range(len(word)):\n",
    "        if word[it].isnumeric() and len(year)<5 and word[it+1] != None:\n",
    "            if word[it+1].isnumeric() or len(year)==3:\n",
    "                year += '%s' % word[it]\n",
    "            else:\n",
    "                year = ''\n",
    "    \n",
    "    word = re.sub(year, '', word).strip()\n",
    "    word = re.sub(' ', '% %', word).strip()\n",
    "    text = \"%\" + word + \"%\"\n",
    "    \n",
    "    cur = connection.cursor()\n",
    "    if year == '':\n",
    "        cur.execute(\"Select * from movies where  name like '{}' limit 10\".format(text))\n",
    "    elif word == '':\n",
    "        cur.execute(\"Select * from movies where year = '{}' limit 10\".format(year))\n",
    "    else:\n",
    "        cur.execute(\"Select * from movies where  name like '{}' and year = '{}' limit 10\".format(text, year))\n",
    "    rows = cur.fetchall()\n",
    "    for row in rows:\n",
    "        res.append('{}, {}, {}'.format(row[0], row[1], row[2]))\n",
    "    return res"
   ]
  },
  {
   "cell_type": "code",
   "execution_count": 239,
   "metadata": {},
   "outputs": [
    {
     "name": "stdout",
     "output_type": "stream",
     "text": [
      "Search: de 1960\n",
      "53250,  Der schweigende Stern, 1960\n",
      "53472,  ? bout de souffle , 1960\n",
      "53716,  Cinderfella, 1960\n",
      "54067,  La maschera del demonio, 1960\n",
      "54285,  Seddok lerede di Satana, 1960\n",
      "54371,  Die 1000 Augen des Dr. Mabuse, 1960\n",
      "54377,  Le testament dOrph‚e ou ne me demandez pas pourquoi, 1960\n"
     ]
    }
   ],
   "source": [
    "con = con_open()\n",
    "findWord = input('Search: ')\n",
    "res = findByWord(con, findWord)\n",
    "for it in res:\n",
    "    print(it)\n",
    "con.close()"
   ]
  }
 ],
 "metadata": {
  "kernelspec": {
   "display_name": "Python 3",
   "language": "python",
   "name": "python3"
  },
  "language_info": {
   "codemirror_mode": {
    "name": "ipython",
    "version": 3
   },
   "file_extension": ".py",
   "mimetype": "text/x-python",
   "name": "python",
   "nbconvert_exporter": "python",
   "pygments_lexer": "ipython3",
   "version": "3.7.4"
  }
 },
 "nbformat": 4,
 "nbformat_minor": 2
}
